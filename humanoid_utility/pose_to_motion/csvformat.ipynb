{
 "cells": [
  {
   "cell_type": "code",
   "execution_count": null,
   "id": "2de45c4c",
   "metadata": {},
   "outputs": [],
   "source": [
    "input_csv = '/home/ros/src/humanoid_utility/DATASET/train.csv'\n",
    "output_csv = '/home/ros/src/humanoid_utility/DATASET/train_wide.csv'"
   ]
  },
  {
   "cell_type": "code",
   "execution_count": 3,
   "id": "53f12dc5",
   "metadata": {},
   "outputs": [],
   "source": [
    "import pandas as pd"
   ]
  },
  {
   "cell_type": "code",
   "execution_count": 4,
   "id": "53ec3c41",
   "metadata": {},
   "outputs": [
    {
     "name": "stdout",
     "output_type": "stream",
     "text": [
      "orginal_shape (13, 148)\n"
     ]
    }
   ],
   "source": [
    "df = pd.read_csv (input_csv)\n",
    "print('orginal_shape', df.shape)"
   ]
  },
  {
   "cell_type": "code",
   "execution_count": 5,
   "id": "b3fea089",
   "metadata": {},
   "outputs": [
    {
     "name": "stdout",
     "output_type": "stream",
     "text": [
      "pose_cols 99 ['0_x', '0_y', '0_z', '1_x', '1_y', '1_z', '2_x', '2_y', '2_z', '3_x', '3_y', '3_z', '4_x', '4_y', '4_z', '5_x', '5_y', '5_z', '6_x', '6_y', '6_z', '7_x', '7_y', '7_z', '8_x', '8_y', '8_z', '9_x', '9_y', '9_z', '10_x', '10_y', '10_z', '11_x', '11_y', '11_z', '12_x', '12_y', '12_z', '13_x', '13_y', '13_z', '14_x', '14_y', '14_z', '15_x', '15_y', '15_z', '16_x', '16_y', '16_z', '17_x', '17_y', '17_z', '18_x', '18_y', '18_z', '19_x', '19_y', '19_z', '20_x', '20_y', '20_z', '21_x', '21_y', '21_z', '22_x', '22_y', '22_z', '23_x', '23_y', '23_z', '24_x', '24_y', '24_z', '25_x', '25_y', '25_z', '26_x', '26_y', '26_z', '27_x', '27_y', '27_z', '28_x', '28_y', '28_z', '29_x', '29_y', '29_z', '30_x', '30_y', '30_z', '31_x', '31_y', '31_z', '32_x', '32_y', '32_z']\n",
      "motion_cols 47 ['jL5S1_rotx', 'jL5S1_roty', 'jT9T8_rotx', 'jT9T8_roty', 'jT9T8_rotz', 'jC7RightShoulder_rotx', 'jC7LeftShoulder_rotx', 'jT1C7_rotx', 'jT1C7_roty', 'jT1C7_rotz', 'jC1Head_rotx', 'jC1Head_roty', 'jRightShoulder_rotx', 'jRightShoulder_roty', 'jRightShoulder_rotz', 'jRightElbow_roty', 'jRightElbow_rotz', 'jRightWrist_rotx', 'jRightWrist_rotz', 'jLeftShoulder_rotx', 'jLeftShoulder_roty', 'jLeftShoulder_rotz', 'jLeftElbow_roty', 'jLeftElbow_rotz', 'jLeftWrist_rotx', 'jLeftWrist_rotz', 'jRightHip_rotx', 'jRightHip_roty', 'jRightHip_rotz', 'jRightKnee_roty', 'jRightKnee_rotz', 'jRightAnkle_rotx', 'jRightAnkle_roty', 'jRightAnkle_rotz', 'jRightBallFoot_roty', 'jLeftHip_rotx', 'jLeftHip_roty', 'jLeftHip_rotz', 'jLeftKnee_roty', 'jLeftKnee_rotz', 'jLeftAnkle_rotx', 'jLeftAnkle_roty', 'jLeftAnkle_rotz', 'jLeftBallFoot_roty', 'link1_link2_joint', 'link2_link3_joint', 'link3_link4_joint']\n"
     ]
    }
   ],
   "source": [
    "pose_cols = [c for c in df.columns if '_' in c and c.split('_')[0].isdigit()]\n",
    "motion_cols = [c for c in df.columns if c not in ['motion_id', 'camera_id'] + pose_cols]\n",
    "print('pose_cols', len(pose_cols), pose_cols)\n",
    "print('motion_cols', len(motion_cols), motion_cols)"
   ]
  },
  {
   "cell_type": "code",
   "execution_count": 15,
   "id": "e4f92ec7",
   "metadata": {},
   "outputs": [],
   "source": [
    "wide = df.pivot(index='motion_id', columns='camera_id', values=pose_cols)\n",
    "wide.columns = [f'cam{cam}_{feat}' for feat, cam in wide.columns.to_flat_index()]\n",
    "wide = wide.reset_index()\n",
    "motion_df = df.drop_duplicates('motion_id')[['motion_id'] + motion_cols]\n",
    "result = pd.merge(wide, motion_df, on='motion_id', how='left')"
   ]
  },
  {
   "cell_type": "code",
   "execution_count": 18,
   "id": "483638ee",
   "metadata": {},
   "outputs": [
    {
     "name": "stdout",
     "output_type": "stream",
     "text": [
      "final_shape (5, 444)\n"
     ]
    }
   ],
   "source": [
    "cols = ['motion_id'] + [c for c in result.columns if c != 'motion_id']\n",
    "result = result[cols].sort_values('motion_id')\n",
    "\n",
    "result.to_csv(output_csv, index=False)\n",
    "print('final_shape', result.shape)"
   ]
  }
 ],
 "metadata": {
  "kernelspec": {
   "display_name": "venv",
   "language": "python",
   "name": "python3"
  },
  "language_info": {
   "codemirror_mode": {
    "name": "ipython",
    "version": 3
   },
   "file_extension": ".py",
   "mimetype": "text/x-python",
   "name": "python",
   "nbconvert_exporter": "python",
   "pygments_lexer": "ipython3",
   "version": "3.12.3"
  }
 },
 "nbformat": 4,
 "nbformat_minor": 5
}
