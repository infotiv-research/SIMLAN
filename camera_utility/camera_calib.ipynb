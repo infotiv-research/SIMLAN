{
 "cells": [
  {
   "cell_type": "code",
   "execution_count": 1,
   "id": "dbbf0548",
   "metadata": {},
   "outputs": [],
   "source": [
    "import math\n",
    "import numpy as np\n",
    "import sys\n",
    "import cv2\n",
    "import transforms3d  # pip3 install transforms3d==0.4.1\n",
    "import math\n",
    "import numpy\n",
    "import numpy as np\n",
    "from scipy.spatial.transform import Rotation as R"
   ]
  },
  {
   "cell_type": "code",
   "execution_count": 2,
   "id": "330b8297",
   "metadata": {},
   "outputs": [],
   "source": [
    "\n",
    "# https://learnopencv.com/rotation-matrix-to-euler-angles/\n",
    "# Checks if a matrix is a valid rotation matrix.\n",
    "def isRotationMatrix(R):\n",
    "    Rt = np.transpose(R)\n",
    "    shouldBeIdentity = np.dot(Rt, R)\n",
    "    I = np.identity(3, dtype=R.dtype)\n",
    "    n = np.linalg.norm(I - shouldBeIdentity)\n",
    "    return n < 1e-6\n",
    "\n",
    "\n",
    "# Calculates rotation matrix to euler angles\n",
    "# The result is the same as MATLAB except the order\n",
    "# of the euler angles ( x and z are swapped ).\n",
    "def rotationMatrixToEulerAngles(R):\n",
    "\n",
    "    assert isRotationMatrix(R)\n",
    "\n",
    "    sy = math.sqrt(R[0, 0] * R[0, 0] + R[1, 0] * R[1, 0])\n",
    "\n",
    "    singular = sy < 1e-6\n",
    "\n",
    "    if not singular:\n",
    "        x = math.atan2(R[2, 1], R[2, 2])\n",
    "        y = math.atan2(-R[2, 0], sy)\n",
    "        z = math.atan2(R[1, 0], R[0, 0])\n",
    "    else:\n",
    "        x = math.atan2(-R[1, 2], R[1, 1])\n",
    "        y = math.atan2(-R[2, 0], sy)\n",
    "        z = 0\n",
    "\n",
    "    return np.array([x, y, z])"
   ]
  },
  {
   "cell_type": "code",
   "execution_count": 3,
   "id": "f44b2f6d",
   "metadata": {},
   "outputs": [],
   "source": [
    "name = \"500\"\n",
    "intrinsic_yaml_file = f\"/home/ros/src/camera_utility/intrinsic/{name}.yaml\"\n",
    "extrinsic_yaml_file = f\"/home/ros/src/camera_utility/extrinsic/{name}.yaml\""
   ]
  },
  {
   "cell_type": "code",
   "execution_count": 4,
   "id": "77a178af",
   "metadata": {},
   "outputs": [],
   "source": [
    "camera_name = name\n",
    "intrinsic_yaml = cv2.FileStorage(intrinsic_yaml_file, cv2.FILE_STORAGE_READ)\n",
    "extrinsic_yaml = cv2.FileStorage(extrinsic_yaml_file, cv2.FILE_STORAGE_READ)\n",
    "\n",
    "# https://docs.opencv.org/4.x/dc/dbb/tutorial_py_calibration.html\n",
    "# https://www.geeksforgeeks.org/calibratecamera-opencv-in-python/\n",
    "\n",
    "# 9 items: Camera matrix\n",
    "in_K = intrinsic_yaml.getNode(\"K\").mat()\n",
    "# 5 items: Distortion coefficients\n",
    "in_D = intrinsic_yaml.getNode(\"D\").mat()\n",
    "\n",
    "in_xi = intrinsic_yaml.getNode(\"xi\").mat()  # 0\n",
    "\n",
    "# 3 items\n",
    "in_image_shape = intrinsic_yaml.getNode(\"image_shape\").mat()\n",
    "\n",
    "# 9 items: rotation vectors\n",
    "ex_rot_mat = extrinsic_yaml.getNode(\"rot_mat\").mat()\n",
    "\n",
    "# 3 items:  translation vectors\n",
    "ex_t_vec = extrinsic_yaml.getNode(\"t_vec\").mat()\n",
    "\n",
    "# 12 items:\n",
    "ex_camera_matrix_p = extrinsic_yaml.getNode(\"camera_matrix_p\").mat()\n",
    "\n",
    "# 3 items: xyz position\n",
    "ex_position = extrinsic_yaml.getNode(\"position\").mat()\n"
   ]
  },
  {
   "cell_type": "code",
   "execution_count": 5,
   "id": "3b8ba63a",
   "metadata": {},
   "outputs": [],
   "source": [
    "\n",
    "# http://sdformat.org/tutorials?tut=specify_pose\n",
    "# The elements x y z specify the position vector (in meters), and the elements roll pitch yaw are Euler angles (in radians) that specify the orientation, which can be computed by an extrinsic X-Y-Z rotation\n",
    "\n",
    "x_ = ex_position[0][0]\n",
    "y_ = ex_position[1][0]\n",
    "z_ = ex_position[2][0]\n",
    "\n",
    "invR = numpy.linalg.inv(ex_rot_mat)\n",
    "neg_invR = numpy.negative(invR)\n",
    "neg_invR_t = numpy.dot(neg_invR, ex_t_vec)\n",
    "x = neg_invR_t[0][0]\n",
    "y = neg_invR_t[1][0]\n",
    "z = neg_invR_t[2][0]\n",
    "\n",
    "# other possible _AXES2TUPLE : https://github.com/matthew-brett/transforms3d/blob/main/transforms3d/euler.py#L148\n",
    "# https://www.andre-gaschler.com/rotationconverter/\n",
    "\n",
    "height = int(in_image_shape[0][0])\n",
    "width = int(in_image_shape[1][0])\n",
    "\n",
    "# 84 degree to 1.46607657 radians\n",
    "# http://sdformat.org/spec?ver=1.11&elem=sensor#camera_distortion\n",
    "\n",
    "k1 = in_D[0][0]\n",
    "k2 = in_D[1][0]\n",
    "p1 = in_D[2][0]\n",
    "p2 = in_D[3][0]\n",
    "k3 = in_D[4][0]\n",
    "\n",
    "# [OpenCV](https://docs.opencv.org/4.x/dc/dbb/tutorial_py_calibration.html) uses five parameters, known as distortion coefficients given by like this: `k1, k2, p1, p2 , k3 # pay attention to the order`\n",
    "\n",
    "px = in_K[0][2]\n",
    "py = in_K[1][2]\n",
    "fx = in_K[0][0]\n",
    "fy = in_K[1][1]\n",
    "fov_x = 2 * math.atan(width / (2 * fx))\n",
    "fov_y = 2 * math.atan(height / (2 * fy))\n",
    "# The FoV is\n",
    "# ~84 degrees horizontal\n",
    "# ~53 degrees vertical\n",
    "# print(fov_x, fov_y) # 53.550787735526455 83.92250895589785\n",
    "\n",
    "fovhor = fov_x\n",
    "aspect_ratio = width / height\n",
    "\n",
    "# rpy, R, Q, Qx, Qy, Qz = cv2.RQDecomp3x3(ex_rot_mat)\n",
    "\n",
    "# R_temp = np.array([\n",
    "#     [0, -1 ,0],\n",
    "#     [0, 0, -1],\n",
    "#     [1, 0, 0]\n",
    "# ])\n",
    "R_world_to_cam = ex_rot_mat\n",
    "R_cam_to_gazebocam = np.array(\n",
    "    [[0.0, 0.0, 1.0], [-1.0, 0.0, 0.0], [0.0, -1.0, 0.0]]\n",
    ")\n",
    "R_world_to_gazebocam = np.matmul(R_cam_to_gazebocam, R_world_to_cam)\n",
    "R_gazebocam_to_world = np.linalg.inv(R_world_to_gazebocam)\n",
    "\n",
    "# First, it turns out that the cameras in gazebo use another coordinate system than what is usually used for cameras (e.g., assumed by the calibration methods in opencv).\n",
    "# Therefore, a rotation matrix R_cam_to_gazebocam to account is introduced.\n",
    "# Second, rather than computing the Euler angles from R_world_to_gazebocam, (which was our initial attempt), the Euler angles must be computed from R_gazebocam_to_world.\n",
    "\n",
    "r, p, w = rotationMatrixToEulerAngles(R_gazebocam_to_world)\n"
   ]
  },
  {
   "cell_type": "markdown",
   "id": "1180754b",
   "metadata": {},
   "source": [
    "We have the data now we want to get the resulting rpy. Test it. And update it. THen we convert our RPY into rotation and inverse the calculations to get our rot matrix.\n"
   ]
  },
  {
   "cell_type": "code",
   "execution_count": 6,
   "id": "ff9b777c",
   "metadata": {},
   "outputs": [
    {
     "data": {
      "text/plain": [
       "array([[ 2.22044605e-16, -1.00000000e+00, -2.22044605e-16],\n",
       "       [ 0.00000000e+00,  2.22044605e-16, -1.00000000e+00],\n",
       "       [ 1.00000000e+00,  2.22044605e-16,  0.00000000e+00]])"
      ]
     },
     "execution_count": 6,
     "metadata": {},
     "output_type": "execute_result"
    }
   ],
   "source": [
    "# Existing values\n",
    "r\n",
    "p\n",
    "w\n",
    "ex_rot_mat"
   ]
  },
  {
   "cell_type": "code",
   "execution_count": 7,
   "id": "58700ef6",
   "metadata": {},
   "outputs": [],
   "source": [
    "def rot_to_rpy(rot_matrix_input):\n",
    "    R_world_to_cam = rot_matrix_input\n",
    "    R_cam_to_gazebocam = np.array(\n",
    "        [[0.0, 0.0, 1.0], [-1.0, 0.0, 0.0], [0.0, -1.0, 0.0]]\n",
    "    )\n",
    "    R_world_to_gazebocam = np.matmul(R_cam_to_gazebocam, R_world_to_cam)\n",
    "    R_gazebocam_to_world = np.linalg.inv(R_world_to_gazebocam)\n",
    "\n",
    "    r, p, w = rotationMatrixToEulerAngles(R_gazebocam_to_world)\n",
    "    return r,p,w"
   ]
  },
  {
   "cell_type": "code",
   "execution_count": 8,
   "id": "8c91f1af",
   "metadata": {},
   "outputs": [
    {
     "name": "stdout",
     "output_type": "stream",
     "text": [
      "-1.5707963267948966 0.00020367320510334213 -3.141592653589793\n"
     ]
    }
   ],
   "source": [
    "#rr,pp,ww = 0 ,3.14, 0.786 # 0, PI 180, PI/2 45\n",
    "rr,pp,ww = 0, 1.571, 0  # 0, 0, PI/2\n",
    "\n",
    "rotation_matrix_new = R.from_euler('xyz', [rr, pp, ww]).as_matrix()\n",
    "rr,pp,ww = rot_to_rpy(rotation_matrix_new)\n",
    "print(rr,pp,ww)"
   ]
  },
  {
   "cell_type": "code",
   "execution_count": 9,
   "id": "063fbaf2",
   "metadata": {},
   "outputs": [
    {
     "name": "stdout",
     "output_type": "stream",
     "text": [
      "2.220446049250313e-16 -4.930380657631324e-32 2.220446049250313e-16\n"
     ]
    }
   ],
   "source": [
    "print(r,p,w)"
   ]
  },
  {
   "cell_type": "code",
   "execution_count": 10,
   "id": "b297305a",
   "metadata": {},
   "outputs": [
    {
     "name": "stdout",
     "output_type": "stream",
     "text": [
      "[[-2.03673204e-04  0.00000000e+00  9.99999979e-01]\n",
      " [ 0.00000000e+00  1.00000000e+00  0.00000000e+00]\n",
      " [-9.99999979e-01  0.00000000e+00 -2.03673204e-04]]\n"
     ]
    }
   ],
   "source": [
    "\n",
    "\n",
    "#rotation_matrix_new = rotation_matrix_new.T @ R_world_to_gazebocam\n",
    "print(rotation_matrix_new)\n",
    "#print(np.allclose(rotation_matrix_new, ex_rot_mat))\n",
    "# I want rotation_matrix_new == ex_rot_mat \n",
    "res = rot_to_rpy(rotation_matrix_new)"
   ]
  },
  {
   "cell_type": "code",
   "execution_count": 11,
   "id": "522e06dc",
   "metadata": {},
   "outputs": [
    {
     "data": {
      "text/plain": [
       "(-1.5707963267948966, 0.00020367320510334213, -3.141592653589793)"
      ]
     },
     "execution_count": 11,
     "metadata": {},
     "output_type": "execute_result"
    }
   ],
   "source": [
    "res"
   ]
  },
  {
   "cell_type": "code",
   "execution_count": 12,
   "id": "ca515ecc",
   "metadata": {},
   "outputs": [
    {
     "name": "stdout",
     "output_type": "stream",
     "text": [
      "[[-2.03673204e-04  2.21999376e-16 -9.99999979e-01]\n",
      " [-2.22044605e-16  1.00000000e+00  2.22044605e-16]\n",
      " [ 9.99999979e-01  2.22089825e-16 -2.03673204e-04]]\n",
      "--------\n",
      "[[ 2.22044605e-16 -1.00000000e+00 -2.22044605e-16]\n",
      " [ 0.00000000e+00  2.22044605e-16 -1.00000000e+00]\n",
      " [ 1.00000000e+00  2.22044605e-16  0.00000000e+00]]\n",
      "Should be identity:\n",
      " [[-2.22089825e-16 -1.00000000e+00 -2.21999376e-16]\n",
      " [-9.99999979e-01  2.22044605e-16  2.03673204e-04]\n",
      " [-2.03673204e-04  2.22044605e-16 -9.99999979e-01]]\n",
      "Close? False\n"
     ]
    }
   ],
   "source": [
    "print(rotation_matrix_new.T @ R_world_to_gazebocam )\n",
    "print(\"--------\")\n",
    "print(ex_rot_mat)\n",
    "\n",
    "diff = ex_rot_mat @ rotation_matrix_new.T\n",
    "print(\"Should be identity:\\n\", diff)\n",
    "print(\"Close?\", np.allclose(diff, np.eye(3), atol=1e-6))"
   ]
  },
  {
   "cell_type": "markdown",
   "id": "616d6361",
   "metadata": {},
   "source": [
    "Get the t_vec given that i have x,y,z and rotation_matrix"
   ]
  },
  {
   "cell_type": "code",
   "execution_count": 13,
   "id": "b6a00948",
   "metadata": {
    "vscode": {
     "languageId": "powershell"
    }
   },
   "outputs": [
    {
     "data": {
      "text/plain": [
       "array([[-1.9992871 ],\n",
       "       [ 0.        ],\n",
       "       [ 3.50040727]])"
      ]
     },
     "execution_count": 13,
     "metadata": {},
     "output_type": "execute_result"
    }
   ],
   "source": [
    "C = np.array([[3.5], [0], [2.0]])   # camera center in world coords\n",
    "t_vec = -rotation_matrix_new @ C\n",
    "t_vec"
   ]
  },
  {
   "cell_type": "markdown",
   "id": "4130bb86",
   "metadata": {
    "vscode": {
     "languageId": "powershell"
    }
   },
   "source": [
    "Get everything i need:"
   ]
  },
  {
   "cell_type": "code",
   "execution_count": 14,
   "id": "917a5849",
   "metadata": {
    "vscode": {
     "languageId": "powershell"
    }
   },
   "outputs": [],
   "source": [
    "def generate_extrinsic_data(camera_id, rpy=[0,0,0], world_pose=[[3.5], [0], [2.0]]):\n",
    "    rpy_ordered = [rpy[1],rpy[2],-rpy[0]] #[rpy[2],rpy[0],rpy[1]]\n",
    "    rotation_matrix_new = R.from_euler('xyz', rpy_ordered).as_matrix()\n",
    "    #rotation_matrix_new = rotation_matrix_new @ rot_convert_matrix\n",
    "    print(\"---------\")\n",
    "    print(f\"cam: {camera_id}\" )\n",
    "    print(\"Rotation matrix:\", *rotation_matrix_new.flatten(), sep=\", \")\n",
    "\n",
    "    C = np.array(world_pose)   # camera center in world coords\n",
    "    t_vec = -rotation_matrix_new @ C \n",
    "    print(f\"t_vec: [{t_vec[0][0]}, {t_vec[1][0]}, {t_vec[2][0]}]\")\n",
    "    print(\"---------\")"
   ]
  },
  {
   "cell_type": "markdown",
   "id": "875155d2",
   "metadata": {},
   "source": [
    "x = z, rotates roll \\\n",
    "y = x, rotates pitch \\\n",
    "z = y, rotates yaw"
   ]
  },
  {
   "cell_type": "code",
   "execution_count": 15,
   "id": "c4222aa0",
   "metadata": {
    "vscode": {
     "languageId": "powershell"
    }
   },
   "outputs": [
    {
     "name": "stdout",
     "output_type": "stream",
     "text": [
      "---------\n",
      "cam: 500\n",
      "Rotation matrix:, 2.220446049250313e-16, -1.0, -2.220446049250313e-16, 0.0, 2.220446049250313e-16, -1.0, 1.0, 2.220446049250313e-16, 0.0\n",
      "t_vec: [-3.3306690738754696e-16, 2.0, -3.5]\n",
      "---------\n",
      "---------\n",
      "cam: 501\n",
      "Rotation matrix:, 1.0, 0.0, 0.0, 0.0, 2.220446049250313e-16, -1.0, 0.0, 1.0, 2.220446049250313e-16\n",
      "t_vec: [-5.5, 2.0000000000000004, 1.9999999999999996]\n",
      "---------\n",
      "---------\n",
      "cam: 502\n",
      "Rotation matrix:, 2.220446049250313e-16, 1.0, 2.220446049250313e-16, 0.0, 2.220446049250313e-16, -1.0, -1.0, 2.220446049250313e-16, 0.0\n",
      "t_vec: [-2.1094237467877974e-15, 2.0, 7.5]\n",
      "---------\n",
      "---------\n",
      "cam: 503\n",
      "Rotation matrix:, -1.0, 1.2246467991473532e-16, 2.465190328815662e-32, 0.0, 2.220446049250313e-16, -1.0, -1.2246467991473532e-16, -1.0, -2.220446049250313e-16\n",
      "t_vec: [5.5, 1.9999999999999996, 2.0000000000000013]\n",
      "---------\n"
     ]
    }
   ],
   "source": [
    "# Old output\n",
    "generate_extrinsic_data(\"500\", [0, math.pi/2, -math.pi/2], [[3.5], [0], [2.0]]) # base\n",
    "generate_extrinsic_data(\"501\", [0, math.pi/2, 0],          [[5.5], [-2.0], [2.0]])  # to the right, facing left 90°\n",
    "generate_extrinsic_data(\"502\", [0, math.pi/2, math.pi/2],  [[7.5], [0], [2.0]]) # To the left facing abit right ## note: set Y but changed Z counterclockwise\n",
    "generate_extrinsic_data(\"503\", [0, math.pi/2, math.pi],    [[5.5], [2.0], [2.0]]) # move to left left ## note: set Z but changed X clockwise"
   ]
  }
 ],
 "metadata": {
  "kernelspec": {
   "display_name": "Python 3 (ipykernel)",
   "language": "python",
   "name": "python3"
  },
  "language_info": {
   "codemirror_mode": {
    "name": "ipython",
    "version": 3
   },
   "file_extension": ".py",
   "mimetype": "text/x-python",
   "name": "python",
   "nbconvert_exporter": "python",
   "pygments_lexer": "ipython3",
   "version": "3.12.3"
  }
 },
 "nbformat": 4,
 "nbformat_minor": 5
}
